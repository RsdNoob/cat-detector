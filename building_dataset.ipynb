{
 "cells": [
  {
   "cell_type": "markdown",
   "metadata": {},
   "source": [
    "# Building Dataset"
   ]
  },
  {
   "cell_type": "code",
   "execution_count": 1,
   "metadata": {},
   "outputs": [],
   "source": [
    "from pyimagesearch import config\n",
    "from imutils import paths\n",
    "from bs4 import BeautifulSoup\n",
    "from pyimagesearch.iou import compute_iou\n",
    "\n",
    "import os\n",
    "import cv2"
   ]
  },
  {
   "cell_type": "code",
   "execution_count": 27,
   "metadata": {},
   "outputs": [],
   "source": [
    "# Loop over the output positive and negative directories\n",
    "for dirPath in (config.POSITVE_PATH, config.NEGATIVE_PATH):\n",
    "    # If the output directory does not exist yet, create it\n",
    "    if not os.path.exists(dirPath):\n",
    "        os.makedirs(dirPath)"
   ]
  },
  {
   "cell_type": "code",
   "execution_count": 28,
   "metadata": {},
   "outputs": [],
   "source": [
    "# grab all image paths in the input images directory\n",
    "imagePaths = list(paths.list_images(config.ORIG_IMAGES))"
   ]
  },
  {
   "cell_type": "code",
   "execution_count": 29,
   "metadata": {},
   "outputs": [],
   "source": [
    "# initialize the total number of positive and negative images we have\n",
    "# saved to disk so far\n",
    "totalPositive = 0\n",
    "totalNegative = 0"
   ]
  },
  {
   "cell_type": "code",
   "execution_count": 30,
   "metadata": {},
   "outputs": [
    {
     "name": "stdout",
     "output_type": "stream",
     "text": [
      "[INFO] processing image 1/200...\n",
      "[INFO] processing image 2/200...\n",
      "[INFO] processing image 3/200...\n",
      "[INFO] processing image 4/200...\n",
      "[INFO] processing image 5/200...\n",
      "[INFO] processing image 6/200...\n",
      "[INFO] processing image 7/200...\n",
      "[INFO] processing image 8/200...\n",
      "[INFO] processing image 9/200...\n",
      "[INFO] processing image 10/200...\n",
      "[INFO] processing image 11/200...\n",
      "[INFO] processing image 12/200...\n",
      "[INFO] processing image 13/200...\n",
      "[INFO] processing image 14/200...\n",
      "[INFO] processing image 15/200...\n",
      "[INFO] processing image 16/200...\n",
      "[INFO] processing image 17/200...\n",
      "[INFO] processing image 18/200...\n",
      "[INFO] processing image 19/200...\n",
      "[INFO] processing image 20/200...\n",
      "[INFO] processing image 21/200...\n",
      "[INFO] processing image 22/200...\n",
      "[INFO] processing image 23/200...\n",
      "[INFO] processing image 24/200...\n",
      "[INFO] processing image 25/200...\n",
      "[INFO] processing image 26/200...\n",
      "[INFO] processing image 27/200...\n",
      "[INFO] processing image 28/200...\n",
      "[INFO] processing image 29/200...\n",
      "[INFO] processing image 30/200...\n",
      "[INFO] processing image 31/200...\n",
      "[INFO] processing image 32/200...\n",
      "[INFO] processing image 33/200...\n",
      "[INFO] processing image 34/200...\n",
      "[INFO] processing image 35/200...\n",
      "[INFO] processing image 36/200...\n",
      "[INFO] processing image 37/200...\n",
      "[INFO] processing image 38/200...\n",
      "[INFO] processing image 39/200...\n",
      "[INFO] processing image 40/200...\n",
      "[INFO] processing image 41/200...\n",
      "[INFO] processing image 42/200...\n",
      "[INFO] processing image 43/200...\n",
      "[INFO] processing image 44/200...\n",
      "[INFO] processing image 45/200...\n",
      "[INFO] processing image 46/200...\n",
      "[INFO] processing image 47/200...\n",
      "[INFO] processing image 48/200...\n",
      "[INFO] processing image 49/200...\n",
      "[INFO] processing image 50/200...\n",
      "[INFO] processing image 51/200...\n",
      "[INFO] processing image 52/200...\n",
      "[INFO] processing image 53/200...\n",
      "[INFO] processing image 54/200...\n",
      "[INFO] processing image 55/200...\n",
      "[INFO] processing image 56/200...\n",
      "[INFO] processing image 57/200...\n",
      "[INFO] processing image 58/200...\n",
      "[INFO] processing image 59/200...\n",
      "[INFO] processing image 60/200...\n",
      "[INFO] processing image 61/200...\n",
      "[INFO] processing image 62/200...\n",
      "[INFO] processing image 63/200...\n",
      "[INFO] processing image 64/200...\n",
      "[INFO] processing image 65/200...\n",
      "[INFO] processing image 66/200...\n",
      "[INFO] processing image 67/200...\n",
      "[INFO] processing image 68/200...\n",
      "[INFO] processing image 69/200...\n",
      "[INFO] processing image 70/200...\n",
      "[INFO] processing image 71/200...\n",
      "[INFO] processing image 72/200...\n",
      "[INFO] processing image 73/200...\n",
      "[INFO] processing image 74/200...\n",
      "[INFO] processing image 75/200...\n",
      "[INFO] processing image 76/200...\n",
      "[INFO] processing image 77/200...\n",
      "[INFO] processing image 78/200...\n",
      "[INFO] processing image 79/200...\n",
      "[INFO] processing image 80/200...\n",
      "[INFO] processing image 81/200...\n",
      "[INFO] processing image 82/200...\n",
      "[INFO] processing image 83/200...\n",
      "[INFO] processing image 84/200...\n",
      "[INFO] processing image 85/200...\n",
      "[INFO] processing image 86/200...\n",
      "[INFO] processing image 87/200...\n",
      "[INFO] processing image 88/200...\n",
      "[INFO] processing image 89/200...\n",
      "[INFO] processing image 90/200...\n",
      "[INFO] processing image 91/200...\n",
      "[INFO] processing image 92/200...\n",
      "[INFO] processing image 93/200...\n",
      "[INFO] processing image 94/200...\n",
      "[INFO] processing image 95/200...\n",
      "[INFO] processing image 96/200...\n",
      "[INFO] processing image 97/200...\n",
      "[INFO] processing image 98/200...\n",
      "[INFO] processing image 99/200...\n",
      "[INFO] processing image 100/200...\n",
      "[INFO] processing image 101/200...\n",
      "[INFO] processing image 102/200...\n",
      "[INFO] processing image 103/200...\n",
      "[INFO] processing image 104/200...\n",
      "[INFO] processing image 105/200...\n",
      "[INFO] processing image 106/200...\n",
      "[INFO] processing image 107/200...\n",
      "[INFO] processing image 108/200...\n",
      "[INFO] processing image 109/200...\n",
      "[INFO] processing image 110/200...\n",
      "[INFO] processing image 111/200...\n",
      "[INFO] processing image 112/200...\n",
      "[INFO] processing image 113/200...\n",
      "[INFO] processing image 114/200...\n",
      "[INFO] processing image 115/200...\n",
      "[INFO] processing image 116/200...\n",
      "[INFO] processing image 117/200...\n",
      "[INFO] processing image 118/200...\n",
      "[INFO] processing image 119/200...\n",
      "[INFO] processing image 120/200...\n",
      "[INFO] processing image 121/200...\n",
      "[INFO] processing image 122/200...\n",
      "[INFO] processing image 123/200...\n",
      "[INFO] processing image 124/200...\n",
      "[INFO] processing image 125/200...\n",
      "[INFO] processing image 126/200...\n",
      "[INFO] processing image 127/200...\n",
      "[INFO] processing image 128/200...\n",
      "[INFO] processing image 129/200...\n",
      "[INFO] processing image 130/200...\n",
      "[INFO] processing image 131/200...\n",
      "[INFO] processing image 132/200...\n",
      "[INFO] processing image 133/200...\n",
      "[INFO] processing image 134/200...\n",
      "[INFO] processing image 135/200...\n",
      "[INFO] processing image 136/200...\n",
      "[INFO] processing image 137/200...\n",
      "[INFO] processing image 138/200...\n",
      "[INFO] processing image 139/200...\n",
      "[INFO] processing image 140/200...\n",
      "[INFO] processing image 141/200...\n",
      "[INFO] processing image 142/200...\n",
      "[INFO] processing image 143/200...\n",
      "[INFO] processing image 144/200...\n",
      "[INFO] processing image 145/200...\n",
      "[INFO] processing image 146/200...\n",
      "[INFO] processing image 147/200...\n",
      "[INFO] processing image 148/200...\n",
      "[INFO] processing image 149/200...\n",
      "[INFO] processing image 150/200...\n",
      "[INFO] processing image 151/200...\n",
      "[INFO] processing image 152/200...\n",
      "[INFO] processing image 153/200...\n",
      "[INFO] processing image 154/200...\n",
      "[INFO] processing image 155/200...\n",
      "[INFO] processing image 156/200...\n",
      "[INFO] processing image 157/200...\n",
      "[INFO] processing image 158/200...\n",
      "[INFO] processing image 159/200...\n",
      "[INFO] processing image 160/200...\n",
      "[INFO] processing image 161/200...\n",
      "[INFO] processing image 162/200...\n",
      "[INFO] processing image 163/200...\n",
      "[INFO] processing image 164/200...\n",
      "[INFO] processing image 165/200...\n",
      "[INFO] processing image 166/200...\n",
      "[INFO] processing image 167/200...\n",
      "[INFO] processing image 168/200...\n",
      "[INFO] processing image 169/200...\n",
      "[INFO] processing image 170/200...\n",
      "[INFO] processing image 171/200...\n",
      "[INFO] processing image 172/200...\n",
      "[INFO] processing image 173/200...\n",
      "[INFO] processing image 174/200...\n",
      "[INFO] processing image 175/200...\n",
      "[INFO] processing image 176/200...\n",
      "[INFO] processing image 177/200...\n",
      "[INFO] processing image 178/200...\n",
      "[INFO] processing image 179/200...\n",
      "[INFO] processing image 180/200...\n",
      "[INFO] processing image 181/200...\n",
      "[INFO] processing image 182/200...\n",
      "[INFO] processing image 183/200...\n",
      "[INFO] processing image 184/200...\n",
      "[INFO] processing image 185/200...\n",
      "[INFO] processing image 186/200...\n",
      "[INFO] processing image 187/200...\n",
      "[INFO] processing image 188/200...\n",
      "[INFO] processing image 189/200...\n",
      "[INFO] processing image 190/200...\n",
      "[INFO] processing image 191/200...\n",
      "[INFO] processing image 192/200...\n",
      "[INFO] processing image 193/200...\n",
      "[INFO] processing image 194/200...\n",
      "[INFO] processing image 195/200...\n",
      "[INFO] processing image 196/200...\n",
      "[INFO] processing image 197/200...\n",
      "[INFO] processing image 198/200...\n",
      "[INFO] processing image 199/200...\n",
      "[INFO] processing image 200/200...\n"
     ]
    }
   ],
   "source": [
    "# loop over the image paths\n",
    "for (i, imagePath) in enumerate(imagePaths):\n",
    "    # show a progress report\n",
    "    print(\"[INFO] processing image {}/{}...\".format(i + 1,\n",
    "        len(imagePaths)))\n",
    "\n",
    "    # extract the filename from the file path and use it to derive\n",
    "    # the path to the XML annotation file\n",
    "    filename = imagePath.split(os.path.sep)[-1]\n",
    "    filename = filename[:filename.rfind(\".\")]\n",
    "    annotPath = os.path.sep.join([config.ORIG_ANNOTS,\n",
    "        \"{}.xml\".format(filename)])\n",
    "\n",
    "    # load the annotation file, build the soup, and initialize our\n",
    "    # list of ground-truth bounding boxes\n",
    "    contents = open(annotPath).read()\n",
    "    soup = BeautifulSoup(contents, \"html.parser\")\n",
    "    gtBoxes = []\n",
    "\n",
    "    # extract the image dimensions\n",
    "    w = int(soup.find(\"width\").string)\n",
    "    h = int(soup.find(\"height\").string)\n",
    "\n",
    "    # loop over all 'object' elements\n",
    "    for o in soup.find_all(\"object\"):\n",
    "        # extract the label and bounding box coordinates\n",
    "        label = o.find(\"name\").string\n",
    "        xMin = int(o.find(\"xmin\").string)\n",
    "        yMin = int(o.find(\"ymin\").string)\n",
    "        xMax = int(o.find(\"xmax\").string)\n",
    "        yMax = int(o.find(\"ymax\").string)\n",
    "\n",
    "        # truncate any bounding box coordinates that may fall\n",
    "        # outside the boundaries of the image\n",
    "        xMin = max(0, xMin)\n",
    "        yMin = max(0, yMin)\n",
    "        xMax = min(w, xMax)\n",
    "        yMax = min(h, yMax)\n",
    "        \n",
    "        # update our list of ground-truth bounding boxes\n",
    "        gtBoxes.append((xMin, yMin, xMax, yMax))\n",
    "\n",
    "    # load the input image from disk\n",
    "    image = cv2.imread(imagePath)\n",
    "\n",
    "    # run selective search on the image and initialize our list of\n",
    "    # proposed boxes\n",
    "    ss = cv2.ximgproc.segmentation.createSelectiveSearchSegmentation()\n",
    "    ss.setBaseImage(image)\n",
    "    ss.switchToSelectiveSearchFast()\n",
    "    rects = ss.process()\n",
    "    proposedRects= []\n",
    "\n",
    "    # loop over the rectangles generated by selective search\n",
    "    for (x, y, w, h) in rects:\n",
    "        # convert our bounding boxes from (x, y, w, h) to (startX,\n",
    "        # startY, startX, endY)\n",
    "        proposedRects.append((x, y, x + w, y + h))\n",
    "\n",
    "    # initialize counters used to count the number of positive and\n",
    "    # negative ROIs saved thus far\n",
    "    positiveROIs = 0\n",
    "    negativeROIs = 0\n",
    "\n",
    "    # loop over the maximum number of region proposals\n",
    "    for proposedRect in proposedRects[:config.MAX_PROPOSALS]:\n",
    "        # unpack the proposed rectangle bounding box\n",
    "        (propStartX, propStartY, propEndX, propEndY) = proposedRect\n",
    "\n",
    "        # loop over the ground-truth bounding boxes\n",
    "        for gtBox in gtBoxes:\n",
    "            # compute the intersection over union between the two\n",
    "            # boxes and unpack the ground-truth bounding box\n",
    "            iou = compute_iou(gtBox, proposedRect)\n",
    "            (gtStartX, gtStartY, gtEndX, gtEndY) = gtBox\n",
    "\n",
    "            # initialize the ROI and output path\n",
    "            roi = None\n",
    "            outputPath = None\n",
    "\n",
    "            # check to see if the IOU is greater than 70% *and* that\n",
    "            # we have not hit our positive count limit\n",
    "            if iou > 0.7 and positiveROIs <= config.MAX_POSITIVE:\n",
    "                # extract the ROI and then derive the output path to\n",
    "                # the positive instance\n",
    "                roi = image[propStartY:propEndY, propStartX:propEndX]\n",
    "                filename = \"{}.png\".format(totalPositive)\n",
    "                outputPath = os.path.sep.join([config.POSITVE_PATH,\n",
    "                    filename])\n",
    "\n",
    "                # increment the positive counters\n",
    "                positiveROIs += 1\n",
    "                totalPositive += 1\n",
    "\n",
    "            # determine if the proposed bounding box falls *within*\n",
    "            # the ground-truth bounding box\n",
    "            fullOverlap = propStartX >= gtStartX\n",
    "            fullOverlap = fullOverlap and propStartY >= gtStartY\n",
    "            fullOverlap = fullOverlap and propEndX <= gtEndX\n",
    "            fullOverlap = fullOverlap and propEndY <= gtEndY\n",
    "\n",
    "            # check to see if there is not full overlap *and* the IoU\n",
    "            # is less than 5% *and* we have not hit our negative\n",
    "            # count limit\n",
    "            if not fullOverlap and iou < 0.05 and \\\n",
    "                negativeROIs <= config.MAX_NEGATIVE:\n",
    "                # extract the ROI and then derive the output path to\n",
    "                # the negative instance\n",
    "                roi = image[propStartY:propEndY, propStartX:propEndX]\n",
    "                filename = \"{}.png\".format(totalNegative)\n",
    "                outputPath = os.path.sep.join([config.NEGATIVE_PATH,\n",
    "                    filename])\n",
    "\n",
    "                # increment the negative counters\n",
    "                negativeROIs += 1\n",
    "                totalNegative += 1\n",
    "\n",
    "            # check to see if both the ROI and output path are valid\n",
    "            if roi is not None and outputPath is not None:\n",
    "                # resize the ROI to the input dimensions of the CNN\n",
    "                # that we'll be fine-tuning, then write the ROI to\n",
    "                # disk\n",
    "                roi = cv2.resize(roi, config.INPUT_DIMS,\n",
    "                    interpolation=cv2.INTER_CUBIC)\n",
    "                cv2.imwrite(outputPath, roi)"
   ]
  },
  {
   "cell_type": "code",
   "execution_count": 38,
   "metadata": {},
   "outputs": [
    {
     "name": "stdout",
     "output_type": "stream",
     "text": [
      "Number of cats: 1847\n",
      "Number of no_cats: 2200\n"
     ]
    }
   ],
   "source": [
    "print('Number of cats:', totalPositive)\n",
    "print('Number of no_cats:', totalNegative)"
   ]
  },
  {
   "cell_type": "markdown",
   "metadata": {},
   "source": [
    "# Fine tune RCNN"
   ]
  },
  {
   "cell_type": "code",
   "execution_count": 12,
   "metadata": {},
   "outputs": [],
   "source": [
    "from tensorflow.keras.preprocessing.image import load_img\n",
    "from tensorflow.keras.preprocessing.image import img_to_array\n",
    "from tensorflow.keras.applications.mobilenet_v2 import preprocess_input\n",
    "from sklearn.model_selection import train_test_split\n",
    "from tensorflow.keras.preprocessing.image import ImageDataGenerator\n",
    "from tensorflow.keras.applications import MobileNetV2\n",
    "from tensorflow.keras.layers import Input, GlobalAveragePooling2D, Flatten, Dense, Dropout\n",
    "from tensorflow.keras.models import Model\n",
    "from tensorflow.keras.optimizers import Adam\n",
    "from sklearn.preprocessing import LabelBinarizer\n",
    "from tensorflow.keras.utils import to_categorical\n",
    "from sklearn.metrics import classification_report\n",
    "\n",
    "import numpy as np\n",
    "import pickle\n",
    "import matplotlib.pyplot as plt"
   ]
  },
  {
   "cell_type": "code",
   "execution_count": 3,
   "metadata": {},
   "outputs": [],
   "source": [
    "# initialize the initial learning rate, number of epochs to train for,\n",
    "# and batch size\n",
    "INIT_LR = 1e-4\n",
    "EPOCHS = 5\n",
    "BS = 32"
   ]
  },
  {
   "cell_type": "code",
   "execution_count": 4,
   "metadata": {},
   "outputs": [
    {
     "name": "stdout",
     "output_type": "stream",
     "text": [
      "[INFO] loading images...\n"
     ]
    }
   ],
   "source": [
    "# grab the list of images in our dataset directory, then initialize\n",
    "# the list of data (i.e., images) and class labels\n",
    "print(\"[INFO] loading images...\")\n",
    "imagePaths = list(paths.list_images(config.BASE_PATH))\n",
    "data = []\n",
    "labels = []"
   ]
  },
  {
   "cell_type": "code",
   "execution_count": 5,
   "metadata": {},
   "outputs": [],
   "source": [
    "# loop over the image paths\n",
    "for imagePath in imagePaths:\n",
    "    # extract the class label from the filename\n",
    "    label = imagePath.split(os.path.sep)[-2]\n",
    "\n",
    "    # load the input image (224x224) and preprocess it\n",
    "    image = load_img(imagePath, target_size=config.INPUT_DIMS)\n",
    "    image = img_to_array(image)\n",
    "    image = preprocess_input(image)\n",
    "\n",
    "    # update the data and labels lists, respectively\n",
    "    data.append(image)\n",
    "    labels.append(label)"
   ]
  },
  {
   "cell_type": "code",
   "execution_count": 6,
   "metadata": {},
   "outputs": [],
   "source": [
    "# convert the data and labels to NumPy arrays\n",
    "data = np.array(data, dtype=\"float32\")\n",
    "labels = np.array(labels)"
   ]
  },
  {
   "cell_type": "code",
   "execution_count": 7,
   "metadata": {},
   "outputs": [],
   "source": [
    "# # perform one-hot encoding on the labels\n",
    "lb = LabelBinarizer()\n",
    "labels = lb.fit_transform(labels)\n",
    "labels = to_categorical(labels)"
   ]
  },
  {
   "cell_type": "code",
   "execution_count": 8,
   "metadata": {},
   "outputs": [],
   "source": [
    "# partition the data into training and testing splits using 75% of\n",
    "# the data for training and the remaining 25% for testing\n",
    "(trainX, testX, trainY, testY) = train_test_split(data, labels,\n",
    "\ttest_size=0.20, stratify=labels, random_state=42)"
   ]
  },
  {
   "cell_type": "code",
   "execution_count": 9,
   "metadata": {},
   "outputs": [],
   "source": [
    "# construct the training image generator for data augmentation\n",
    "aug = ImageDataGenerator(\n",
    "\trotation_range=20,\n",
    "\tzoom_range=0.15,\n",
    "\twidth_shift_range=0.2,\n",
    "\theight_shift_range=0.2,\n",
    "\tshear_range=0.15,\n",
    "\thorizontal_flip=True,\n",
    "\tfill_mode=\"nearest\")"
   ]
  },
  {
   "cell_type": "code",
   "execution_count": 10,
   "metadata": {},
   "outputs": [
    {
     "name": "stdout",
     "output_type": "stream",
     "text": [
      "WARNING:tensorflow:`input_shape` is undefined or non-square, or `rows` is not in [96, 128, 160, 192, 224]. Weights for input shape (224, 224) will be loaded as the default.\n"
     ]
    }
   ],
   "source": [
    "# load the MobileNetV2 network, ensuring the head FC layer sets are\n",
    "# left off\n",
    "baseModel = MobileNetV2(weights=\"imagenet\", include_top=False,\n",
    "\tinput_tensor=Input(shape=(224, 224, 3)))"
   ]
  },
  {
   "cell_type": "code",
   "execution_count": 13,
   "metadata": {},
   "outputs": [],
   "source": [
    "# construct the head of the model that will be placed on top of the\n",
    "# the base model\n",
    "headModel = baseModel.output\n",
    "headModel = GlobalAveragePooling2D()(headModel)\n",
    "headModel = Flatten(name=\"flatten\")(headModel)\n",
    "headModel = Dense(256, activation=\"relu\")(headModel)\n",
    "headModel = Dropout(0.2)(headModel)\n",
    "headModel = Dense(128, activation=\"relu\")(headModel)\n",
    "headModel = Dropout(0.2)(headModel)\n",
    "headModel = Dense(2, activation=\"softmax\")(headModel)"
   ]
  },
  {
   "cell_type": "code",
   "execution_count": 14,
   "metadata": {},
   "outputs": [],
   "source": [
    "# place the head FC model on top of the base model (this will become\n",
    "# the actual model we will train)\n",
    "model = Model(inputs=baseModel.input, outputs=headModel)"
   ]
  },
  {
   "cell_type": "code",
   "execution_count": 15,
   "metadata": {},
   "outputs": [],
   "source": [
    "# loop over all layers in the base model and freeze them so they will\n",
    "# *not* be updated during the first training process\n",
    "for layer in baseModel.layers:\n",
    "\tlayer.trainable = False"
   ]
  },
  {
   "cell_type": "code",
   "execution_count": 16,
   "metadata": {},
   "outputs": [
    {
     "name": "stdout",
     "output_type": "stream",
     "text": [
      "[INFO] compiling model...\n"
     ]
    }
   ],
   "source": [
    "# compile our model\n",
    "print(\"[INFO] compiling model...\")\n",
    "opt = Adam(lr=INIT_LR)\n",
    "model.compile(loss=\"binary_crossentropy\", optimizer=opt,\n",
    "\tmetrics=[\"accuracy\"])"
   ]
  },
  {
   "cell_type": "code",
   "execution_count": 17,
   "metadata": {
    "scrolled": false
   },
   "outputs": [
    {
     "name": "stdout",
     "output_type": "stream",
     "text": [
      "[INFO] training head...\n",
      "Epoch 1/5\n",
      "101/101 [==============================] - 276s 3s/step - loss: 0.1206 - accuracy: 0.9507 - val_loss: 0.0114 - val_accuracy: 0.9963\n",
      "Epoch 2/5\n",
      "101/101 [==============================] - 269s 3s/step - loss: 0.0142 - accuracy: 0.9956 - val_loss: 0.0048 - val_accuracy: 0.9988\n",
      "Epoch 3/5\n",
      "101/101 [==============================] - 283s 3s/step - loss: 0.0062 - accuracy: 0.9988 - val_loss: 0.0043 - val_accuracy: 0.9988\n",
      "Epoch 4/5\n",
      "101/101 [==============================] - 268s 3s/step - loss: 0.0058 - accuracy: 0.9981 - val_loss: 0.0018 - val_accuracy: 1.0000\n",
      "Epoch 5/5\n",
      "101/101 [==============================] - 315s 3s/step - loss: 0.0053 - accuracy: 0.9984 - val_loss: 0.0011 - val_accuracy: 1.0000\n"
     ]
    }
   ],
   "source": [
    "# train the head of the network\n",
    "print(\"[INFO] training head...\")\n",
    "H = model.fit(\n",
    "\taug.flow(trainX, trainY, batch_size=BS),\n",
    "\tsteps_per_epoch=len(trainX) // BS,\n",
    "\tvalidation_data=(testX, testY),\n",
    "\tvalidation_steps=len(testX) // BS,\n",
    "\tepochs=EPOCHS)"
   ]
  },
  {
   "cell_type": "code",
   "execution_count": 18,
   "metadata": {},
   "outputs": [
    {
     "name": "stdout",
     "output_type": "stream",
     "text": [
      "[INFO] evaluating network...\n"
     ]
    }
   ],
   "source": [
    "# make predictions on the testing set\n",
    "print(\"[INFO] evaluating network...\")\n",
    "predIdxs = model.predict(testX, batch_size=BS)"
   ]
  },
  {
   "cell_type": "code",
   "execution_count": 19,
   "metadata": {},
   "outputs": [],
   "source": [
    "# for each image in the testing set we need to find the index of the\n",
    "# label with corresponding largest predicted probability\n",
    "predIdxs = np.argmax(predIdxs, axis=1)"
   ]
  },
  {
   "cell_type": "code",
   "execution_count": 20,
   "metadata": {
    "scrolled": true
   },
   "outputs": [
    {
     "name": "stdout",
     "output_type": "stream",
     "text": [
      "              precision    recall  f1-score   support\n",
      "\n",
      "         cat       1.00      1.00      1.00       370\n",
      "      no_cat       1.00      1.00      1.00       440\n",
      "\n",
      "    accuracy                           1.00       810\n",
      "   macro avg       1.00      1.00      1.00       810\n",
      "weighted avg       1.00      1.00      1.00       810\n",
      "\n"
     ]
    }
   ],
   "source": [
    "# show a nicely formatted classification report\n",
    "print(classification_report(testY.argmax(axis=1), predIdxs,\n",
    "    target_names=lb.classes_))"
   ]
  },
  {
   "cell_type": "code",
   "execution_count": 21,
   "metadata": {},
   "outputs": [
    {
     "name": "stdout",
     "output_type": "stream",
     "text": [
      "[INFO] saving mask detector model...\n"
     ]
    }
   ],
   "source": [
    "# serialize the model to disk\n",
    "print(\"[INFO] saving mask detector model...\")\n",
    "model.save(config.MODEL_PATH, save_format=\"h5\")\n",
    "# export_saved_model(model, config.MODEL_PATH)"
   ]
  },
  {
   "cell_type": "code",
   "execution_count": 22,
   "metadata": {},
   "outputs": [
    {
     "name": "stdout",
     "output_type": "stream",
     "text": [
      "[INFO] saving label encoder...\n"
     ]
    }
   ],
   "source": [
    "# serialize the label encoder to disk\n",
    "print(\"[INFO] saving label encoder...\")\n",
    "f = open(config.ENCODER_PATH, \"wb\")\n",
    "f.write(pickle.dumps(lb))\n",
    "f.close()"
   ]
  },
  {
   "cell_type": "code",
   "execution_count": 23,
   "metadata": {},
   "outputs": [
    {
     "data": {
      "image/png": "[encoded data removed]",
      "text/plain": [
       "<Figure size 432x288 with 1 Axes>"
      ]
     },
     "metadata": {},
     "output_type": "display_data"
    }
   ],
   "source": [
    "# plot the training loss and accuracy\n",
    "N = EPOCHS\n",
    "plt.style.use(\"ggplot\")\n",
    "plt.figure()\n",
    "plt.plot(np.arange(0, N), H.history[\"loss\"], label=\"train_loss\")\n",
    "plt.plot(np.arange(0, N), H.history[\"val_loss\"], label=\"val_loss\")\n",
    "plt.plot(np.arange(0, N), H.history[\"accuracy\"], label=\"train_acc\")\n",
    "plt.plot(np.arange(0, N), H.history[\"val_accuracy\"], label=\"val_acc\")\n",
    "plt.title(\"Training Loss and Accuracy\")\n",
    "plt.xlabel(\"Epoch #\")\n",
    "plt.ylabel(\"Loss/Accuracy\")\n",
    "plt.legend(loc=\"lower left\")\n",
    "plt.savefig('plot.png')"
   ]
  },
  {
   "cell_type": "markdown",
   "metadata": {},
   "source": [
    "# Detect Object RCNN"
   ]
  },
  {
   "cell_type": "code",
   "execution_count": 25,
   "metadata": {},
   "outputs": [],
   "source": [
    "from tensorflow.keras.models import load_model\n",
    "from pyimagesearch.nms import non_max_suppression\n",
    "\n",
    "import imutils"
   ]
  },
  {
   "cell_type": "code",
   "execution_count": 26,
   "metadata": {},
   "outputs": [
    {
     "name": "stdout",
     "output_type": "stream",
     "text": [
      "[INFO] loading model and label binarizer...\n"
     ]
    }
   ],
   "source": [
    "# load the our fine-tuned model and label binarizer from disk\n",
    "print(\"[INFO] loading model and label binarizer...\")\n",
    "model = load_model(config.MODEL_PATH)\n",
    "# model = load_from_saved_model(config.MODEL_PATH, custom_objects={'KerasLayer':hub.KerasLayer})\n",
    "lb = pickle.loads(open(config.ENCODER_PATH, \"rb\").read())"
   ]
  },
  {
   "cell_type": "code",
   "execution_count": 27,
   "metadata": {},
   "outputs": [],
   "source": [
    "# load the input image from disk\n",
    "image = cv2.imread('dataset/cat/69.png')\n",
    "image = imutils.resize(image, width=500)"
   ]
  },
  {
   "cell_type": "code",
   "execution_count": 28,
   "metadata": {},
   "outputs": [
    {
     "data": {
      "image/png": "[encoded data removed]",
      "text/plain": [
       "<Figure size 432x288 with 1 Axes>"
      ]
     },
     "metadata": {},
     "output_type": "display_data"
    }
   ],
   "source": [
    "plt.imshow(image);"
   ]
  },
  {
   "cell_type": "code",
   "execution_count": 29,
   "metadata": {},
   "outputs": [
    {
     "name": "stdout",
     "output_type": "stream",
     "text": [
      "[INFO] running selective search...\n"
     ]
    }
   ],
   "source": [
    "# run selective search on the image to generate bounding box proposal\n",
    "# regions\n",
    "print(\"[INFO] running selective search...\")\n",
    "ss = cv2.ximgproc.segmentation.createSelectiveSearchSegmentation()\n",
    "ss.setBaseImage(image)\n",
    "ss.switchToSelectiveSearchFast()\n",
    "rects = ss.process()"
   ]
  },
  {
   "cell_type": "code",
   "execution_count": 63,
   "metadata": {},
   "outputs": [],
   "source": [
    "# initialize the list of region proposals that we'll be classifying\n",
    "# along with their associated bounding boxes\n",
    "proposals = []\n",
    "boxes = []"
   ]
  },
  {
   "cell_type": "code",
   "execution_count": 64,
   "metadata": {},
   "outputs": [],
   "source": [
    "# loop over the region proposal bounding box coordinates generated by\n",
    "# running selective search\n",
    "for (x, y, w, h) in rects[:config.MAX_PROPOSALS_INFER]:\n",
    "\t# extract the region from the input image, convert it from BGR to\n",
    "\t# RGB channel ordering, and then resize it to the required input\n",
    "\t# dimensions of our trained CNN\n",
    "\troi = image[y:y + h, x:x + w]\n",
    "\troi = cv2.cvtColor(roi, cv2.COLOR_BGR2RGB)\n",
    "\troi = cv2.resize(roi, config.INPUT_DIMS,\n",
    "\t\tinterpolation=cv2.INTER_CUBIC)\n",
    "\n",
    "\t# further preprocess by the ROI\n",
    "\troi = img_to_array(roi)\n",
    "\troi = preprocess_input(roi)\n",
    "\n",
    "\t# update our proposals and bounding boxes lists\n",
    "\tproposals.append(roi)\n",
    "\tboxes.append((x, y, x + w, y + h))"
   ]
  },
  {
   "cell_type": "code",
   "execution_count": 65,
   "metadata": {},
   "outputs": [
    {
     "name": "stdout",
     "output_type": "stream",
     "text": [
      "[INFO] proposal shape: (200, 224, 224, 3)\n"
     ]
    }
   ],
   "source": [
    "# convert the proposals and bounding boxes into NumPy arrays\n",
    "proposals = np.array(proposals, dtype=\"float32\")\n",
    "boxes = np.array(boxes, dtype=\"int32\")\n",
    "print(\"[INFO] proposal shape: {}\".format(proposals.shape))"
   ]
  },
  {
   "cell_type": "code",
   "execution_count": 66,
   "metadata": {},
   "outputs": [
    {
     "name": "stdout",
     "output_type": "stream",
     "text": [
      "[INFO] classifying proposals...\n"
     ]
    }
   ],
   "source": [
    "# classify each of the proposal ROIs using fine-tuned model\n",
    "print(\"[INFO] classifying proposals...\")\n",
    "proba = model.predict(proposals)"
   ]
  },
  {
   "cell_type": "code",
   "execution_count": 67,
   "metadata": {},
   "outputs": [
    {
     "name": "stdout",
     "output_type": "stream",
     "text": [
      "[INFO] applying NMS...\n"
     ]
    }
   ],
   "source": [
    "# find the index of all predictions that are positive for the\n",
    "# \"cat\" class\n",
    "print(\"[INFO] applying NMS...\")\n",
    "labels = lb.classes_[np.argmax(proba, axis=1)]\n",
    "idxs = np.where(labels == 'cat')[0]"
   ]
  },
  {
   "cell_type": "code",
   "execution_count": 68,
   "metadata": {},
   "outputs": [],
   "source": [
    "# use the indexes to extract all bounding boxes and associated class\n",
    "# label probabilities associated with the \"cat\" class\n",
    "boxes = boxes[idxs]\n",
    "proba = proba[idxs][:, 0]"
   ]
  },
  {
   "cell_type": "code",
   "execution_count": 69,
   "metadata": {},
   "outputs": [],
   "source": [
    "# further filter indexes by enforcing a minimum prediction\n",
    "# probability be met\n",
    "idxs = np.where(proba >= config.MIN_PROBA)\n",
    "boxes = boxes[idxs]\n",
    "proba = proba[idxs]"
   ]
  },
  {
   "cell_type": "code",
   "execution_count": 180,
   "metadata": {},
   "outputs": [],
   "source": [
    "# clone the original image so that we can draw on it\n",
    "clone = image.copy()"
   ]
  },
  {
   "cell_type": "code",
   "execution_count": 181,
   "metadata": {},
   "outputs": [],
   "source": [
    "# loop over the bounding boxes and associated probabilities\n",
    "for (box, prob) in zip(boxes, proba):\n",
    "\t# draw the bounding box, label, and probability on the image\n",
    "\t(startX, startY, endX, endY) = box\n",
    "\tcv2.rectangle(clone, (startX, startY), (endX, endY),\n",
    "\t\t(0, 255, 0), 2)\n",
    "\ty = startY - 10 if startY - 10 > 10 else startY + 10\n",
    "\ttext= \"Cat: {:.2f}%\".format(prob * 100)\n",
    "\tcv2.putText(clone, text, (startX, y),\n",
    "\t\tcv2.FONT_HERSHEY_SIMPLEX, 0.45, (0, 255, 0), 2)"
   ]
  },
  {
   "cell_type": "code",
   "execution_count": 182,
   "metadata": {},
   "outputs": [],
   "source": [
    "# show the output after *before* running NMS\n",
    "cv2.imshow(\"Before NMS\", clone)"
   ]
  },
  {
   "cell_type": "code",
   "execution_count": 185,
   "metadata": {},
   "outputs": [],
   "source": [
    "# run non-maxima suppression on the bounding boxes\n",
    "boxIdxs = non_max_suppression(boxes, proba)"
   ]
  },
  {
   "cell_type": "code",
   "execution_count": 186,
   "metadata": {},
   "outputs": [],
   "source": [
    "# loop over the bounding box indexes\n",
    "for i in boxIdxs:\n",
    "\t# draw the bounding box, label, and probability on the image\n",
    "\t(startX, startY, endX, endY) = boxes[i]\n",
    "\tcv2.rectangle(image, (startX, startY), (endX, endY),\n",
    "\t\t(0, 255, 0), 2)\n",
    "\ty = startY - 10 if startY - 10 > 10 else startY + 10\n",
    "\ttext= \"Cat: {:.2f}%\".format(proba[i] * 100)\n",
    "\tcv2.putText(image, text, (startX, y),\n",
    "\t\tcv2.FONT_HERSHEY_SIMPLEX, 0.45, (0, 255, 0), 2)"
   ]
  },
  {
   "cell_type": "code",
   "execution_count": 187,
   "metadata": {},
   "outputs": [
    {
     "data": {
      "text/plain": [
       "-1"
      ]
     },
     "execution_count": 187,
     "metadata": {},
     "output_type": "execute_result"
    }
   ],
   "source": [
    "# show the output image *after* running NMS\n",
    "cv2.imshow(\"After NMS\", image)\n",
    "cv2.waitKey(0)"
   ]
  },
  {
   "cell_type": "code",
   "execution_count": null,
   "metadata": {},
   "outputs": [],
   "source": []
  }
 ],
 "metadata": {
  "kernelspec": {
   "display_name": "Python 3",
   "language": "python",
   "name": "python3"
  },
  "language_info": {
   "codemirror_mode": {
    "name": "ipython",
    "version": 3
   },
   "file_extension": ".py",
   "mimetype": "text/x-python",
   "name": "python",
   "nbconvert_exporter": "python",
   "pygments_lexer": "ipython3",
   "version": "3.8.2"
  }
 },
 "nbformat": 4,
 "nbformat_minor": 4
}
